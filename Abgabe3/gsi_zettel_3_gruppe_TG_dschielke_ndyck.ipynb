{
 "cells": [
  {
   "cell_type": "markdown",
   "metadata": {},
   "source": [
    "# Übungszettel 3 - Syntax (2. Teil) & Semantik\n",
    "### Abgabefrist: Freitag, 2. Juni 2023, 9:59 Uhr\n",
    "\n",
    "_Umbenennung des Jupyter Notebooks mit Gruppenname und Techfak-Kürzel!_\n",
    "\n",
    "Punkte insgesamt möglich: _20 Punkte_\n",
    "\n",
    "## Aufgabe 1: _(5 Punkte)_"
   ]
  },
  {
   "cell_type": "code",
   "execution_count": null,
   "metadata": {},
   "outputs": [],
   "source": [
    "from IPython.display import display, Markdown\n",
    "\n",
    "def display_grammar_table(grammar, name):\n",
    "    arrow,ln_break = \"→\", \"\\n\"\n",
    "    display(Markdown(f\"\"\"\n",
    "| Grammatik {name} |  |  |\n",
    "| ---: | :----: | :--- |\n",
    "{''.join(f\"| {s}| {arrow} | {' ⎮ '.join(map(lambda x: f'_{x}_', t)) if isinstance(t, set) else (' '.join(t) if isinstance(t, tuple) else t)}|{ln_break}\" for s, t in grammar)}\n",
    "\"\"\"))\n",
    "\n",
    "def highlight_sentence(sentence, name):\n",
    "    display(Markdown(f\"\"\"\n",
    "**{name}:**\n",
    "> {sentence}\"\"\"))\n",
    "\n",
    "s1 = \"she writes a letter\"  #.\n",
    "s2 = \"does she book a flight from Houston to TWA\"  #?\n",
    "\n",
    "g1 = [\n",
    "    ('S', ('NP', 'VP')),\n",
    "    ('S', ('X1', 'VP')),\n",
    "    ('X1', ('Aux', 'NP')),\n",
    "    ('S', ('Verb', 'NP')),\n",
    "    ('S', ('X2', 'PP')),\n",
    "    ('S', ('Verb', 'PP')),\n",
    "    ('S', ('VP', 'PP')),\n",
    "    ('NP', ('Det', 'Nominal')),\n",
    "    ('Nominal', ('Nominal', 'Noun')),\n",
    "    ('Nominal', ('Nominal', 'PP')),\n",
    "    ('VP', ('Verb', 'NP')),\n",
    "    ('VP', ('X2', 'PP')),\n",
    "    ('X2', ('Verb', 'NP')),\n",
    "    ('VP', ('Verb', 'PP')),\n",
    "    ('VP', ('VP', 'PP')),\n",
    "    ('PP', ('Preposition', 'NP')),\n",
    "    ('Det', {'a', 'the', 'that', 'this'}),\n",
    "    ('Noun', {'meal', 'money', 'book', 'flight'}),\n",
    "    ('Nominal', {'meal', 'money', 'book', 'flight'}),\n",
    "    ('S', {'book', 'include', 'prefer'}),\n",
    "    ('Verb', {'book', 'include', 'prefer'}),\n",
    "    ('VP', {'book', 'include', 'prefer'}),\n",
    "    ('Pronoun', {'me', 'I', 'she'}),\n",
    "    ('Proper-Noun', {'Houston', 'TWA'}),\n",
    "    ('NP', {'me', 'I', 'she'}),\n",
    "    ('NP', {'Houston', 'TWA'}),\n",
    "    ('Aux', {'does'}),\n",
    "    ('Preposition', {'from', 'near', 'through', 'on', 'to'})\n",
    "]\n",
    "\n",
    "display_grammar_table(g1, \"G1\")\n",
    "highlight_sentence(s1, \"S1\")\n",
    "highlight_sentence(s2, \"S2\")"
   ]
  },
  {
   "cell_type": "markdown",
   "metadata": {},
   "source": [
    "### A1.1: _(2 Punkte)_\n",
    "Erklärt anhand von G1, S1 und ausgewählten Beispielsituationen bei der Anwendung des Algorithmus, warum Top-Down-Parsing Ansatz für die Syntaktische Analyse von S1 eher ungeeignet ist."
   ]
  },
  {
   "cell_type": "markdown",
   "metadata": {},
   "source": [
    "#### Antwort:\n",
    "    <hier Lösung der Teilaufgabe 1.1 (Enter oder Doppelklick auf Zelle)>"
   ]
  },
  {
   "cell_type": "markdown",
   "metadata": {},
   "source": [
    "### A1.2: _(2 Punkte)_\n",
    "Beschreibt wie der CKY-Algorithmus Bottom-Up-Parsing realisiert. Benutzt S1 um zu skizzieren wie der Algorithmus angewandt werden kann um die syntaktische Struktur von S1 zu parsen. Welche Eigenschaft muss G1 dafür erfüllen?"
   ]
  },
  {
   "cell_type": "markdown",
   "metadata": {},
   "source": [
    "#### Antwort:\n",
    "    <hier Lösung der Teilaufgabe 1.2>"
   ]
  },
  {
   "cell_type": "markdown",
   "metadata": {},
   "source": [
    "### A1.3: _(1 Punkt)_\n",
    "\n",
    "| Grammatik G2 |        |                             |\n",
    "| ---:         | :----: | :---                        |\n",
    "| S            |→       | Aux NP VP                   |\n",
    "| S            |→       | VP                          |\n",
    "| NP           |→       | Pronoun                     |\n",
    "| VP           |→       | Verb                        |\n",
    "| VP           |→       | Verb NP                     |\n",
    "| VP           |→       | Verb PP                     |\n",
    "| Verb         |→       | _book_ ⎮ _leave_ ⎮ _arrive_ |\n",
    "| Pronoun      |→       | _I_ ⎮ _she_ ⎮ _me_          |\n",
    "\n",
    "\n",
    "\n",
    "Überprüft ob die Grammatik G2 die in Teilaufgabe A1.2 gesuchte Eigenschaft erfüllt. Argumentiert warum sie diese Eigenschaft erfüllt, bzw. nicht erfüllt. Überführt G2 gegebenenfalls in eine Form, in der sie für den CKY Algorithmus anwendbar wird."
   ]
  },
  {
   "cell_type": "markdown",
   "metadata": {},
   "source": [
    "#### Antwort:\n",
    "    <hier Lösung der Teilaufgabe 1.3>"
   ]
  },
  {
   "cell_type": "markdown",
   "metadata": {},
   "source": [
    "## Aufgabe 2: _(8 Punkte)_\n",
    "\n",
    "### A2.1: _(2 Punkte)_\n",
    "Implementiert den CKY-Algorithmus und wendet den CKY-Algorithmus auf S2 an. Generiert eine Parsingtabelle aller möglichen Parses des Algorithmus. Verwendet dazu die Grammatik G1."
   ]
  },
  {
   "cell_type": "code",
   "execution_count": null,
   "metadata": {},
   "outputs": [],
   "source": [
    "def cky(grammar, sentence):\n",
    "    # Eure Lösung für 2.1 hier\n",
    "    parsing_table = []\n",
    "\n",
    "    \n",
    "    success = False\n",
    "    return parsing_table, success"
   ]
  },
  {
   "cell_type": "code",
   "execution_count": null,
   "metadata": {},
   "outputs": [],
   "source": [
    "table1, parse_success = cky(g1, s2)\n",
    "\n",
    "def display_table(sentence, table):\n",
    "    ln_break = \"\\n\"\n",
    "    if len(table[0]) > len(sentence.split()):\n",
    "        display(Markdown(f\"\"\"\n",
    "||{\"|\".join(sentence.split())}|\n",
    "|---|--{\"|\".join(\"---\" for _ in sentence.split())}---|\n",
    "{\"\".join((\"|\"+ \"|\".join((str(cell) if cell else \"\") for cell in row) + \"|\") + ln_break  for row in table)}\n",
    "\"\"\"))\n",
    "    else:\n",
    "        display(Markdown(f\"\"\"\n",
    "|{\"|\".join(sentence.split())}|\n",
    "|--{\"|\".join(\"---\" for _ in sentence.split())}---|\n",
    "{\"\".join((\"|\"+ \"|\".join((str(cell) if cell else \"\") for cell in row) + \"|\") + ln_break  for row in table)}\n",
    "\"\"\"))\n",
    "\n",
    "print(f\"Grammar G1 {'parses' if parse_success else 'does not parse'} sentence S2\")"
   ]
  },
  {
   "cell_type": "markdown",
   "metadata": {},
   "source": [
    "### A2.2: _(4 Punkte)_\n",
    "Extrahiert alle möglichen Syntaxbäume für S2 aus der in Teilaufgabe A2.1 produzierten Tabelle."
   ]
  },
  {
   "cell_type": "code",
   "execution_count": null,
   "metadata": {},
   "outputs": [],
   "source": [
    "from itertools import product\n",
    "\n",
    "\n",
    "class Node:\n",
    "    def __init__(self, name, children=None, is_terminal=False):\n",
    "        self.name = name\n",
    "        self.children = children if children else []\n",
    "        self.is_terminal = is_terminal\n",
    "\n",
    "    def __str__(self):\n",
    "        return f\"<<I>{self.name}</I>>\" if self.is_terminal else self.name\n",
    "    \n",
    "\n",
    "def extract_trees(grammar, table, sentence):\n",
    "    \"\"\" returns a list of root nodes of the results\"\"\"\n",
    "    \n",
    "    # Hier eure Lösung für das Extrahieren der Bäume.\n",
    "    # Gibt die Bäume als Liste der Root Nodes zurück \n",
    "    # return [Node(\"S\", [Node(...), ...]), ...]  ## is_terminal=True\n",
    "    \n",
    "    return []"
   ]
  },
  {
   "cell_type": "code",
   "execution_count": null,
   "metadata": {},
   "outputs": [],
   "source": [
    "import graphviz\n",
    "\n",
    "def plot_syntax_trees(trees):\n",
    "    ln_break = \"\\n\"\n",
    "    for tree in trees:\n",
    "        node_buffer = [tree]\n",
    "        number_nodes = 0\n",
    "        tree.id_ = str(number_nodes)\n",
    "        dot_strings = []\n",
    "        dot_strings.append(f'n{tree.id_} ; n{tree.id_} [label={tree}] ; ')\n",
    "        rank_same = []\n",
    "        while node_buffer:\n",
    "            node = node_buffer.pop(0)\n",
    "            for child in node.children:\n",
    "                node_buffer.append(child)\n",
    "                number_nodes += 1\n",
    "                child.id_ = str(number_nodes)\n",
    "                dot_strings.append(f'n{child.id_} ;{ln_break}n{child.id_} [label={child}] ;')\n",
    "                dot_strings.append(f\"n{node.id_} -- n{child.id_} ;\")\n",
    "                if child.is_terminal:\n",
    "                    rank_same.append(f\"n{child.id_}; \")\n",
    "\n",
    "        display(graphviz.Source(f\"\"\"\n",
    "        graph {{\n",
    "            fontname=\"Helvetica,Arial,sans-serif\"\n",
    "            node [fontname=\"Helvetica,Arial,sans-serif\"]\n",
    "            edge [fontname=\"Helvetica,Arial,sans-serif\"]\n",
    "            rankdir=TD;\n",
    "            node [shape = plaintext];\n",
    "            {f\"{ln_break}\".join(dot_strings)}\n",
    "            {{rank = same; {''.join(rank_same)}}}\n",
    "        }}\n",
    "        \"\"\"))\n",
    "\n",
    "if parse_success:\n",
    "    plot_syntax_trees(extract_trees(g1, table1, s2))"
   ]
  },
  {
   "cell_type": "markdown",
   "metadata": {},
   "source": [
    "### A2.3: _(2 Punkte)_\n",
    "Beschreibe den Eintrag in Reihe 2 (0-indiziert, sonst Reihe 3) von Wort \"flight\". Wie wird diese Zelle berechnet (In eigenen Worten beschreiben; Formel reicht nicht aus)? Welche Einträge waren in diesem Beipiel für den Eintrag entscheident?"
   ]
  },
  {
   "cell_type": "markdown",
   "metadata": {},
   "source": [
    "#### Antwort:\n",
    "    <hier Lösung der Teilaufgabe 2.3>"
   ]
  },
  {
   "cell_type": "markdown",
   "metadata": {},
   "source": [
    "## Aufgabe 3: _(7 Punkte)_\n",
    "Wechsel zu Vorlesung 5: Semantik."
   ]
  },
  {
   "cell_type": "markdown",
   "metadata": {},
   "source": [
    "### A3.1: _(3 Punkte)_\n",
    "Definiert eine semantische Modellwelt für die Domäne des folgenden Szenarios. Definiert dazu die Properties\n",
    "_Person_, _Hometown_, _Restaurant_, _Cuisine_ und _Foodtype_. Benutzt diese Properties um die Relationen _Friends_, _LivesIn_, _PerferredFoodType_, _WouldGoTo_, _Serves_ und _ServedFoodTypeIs_ sinnvoll zu definieren (Siehe Form der Semantische Attachements in A3.2). Nehmt die definierten Relationen in die Modellwelt auf.\n",
    "\n",
    "> Bill, Ted and Morti are friends. Bill and Ted live in San Dimas, Morti lives in the Underworld. There are three good restaurants in San Dimas, the Lucky Elephant, the Zendejas and the Applebee's. The Lucky Elephant serves Thai cuisine, the Zendejas mexican dishes. Morti is on a diet and likes to eat vegetarian dishes only available at the Lucky Elephant. Bill and Ted prefer meaty food and hence like the Zendejas or the BBQ at Applebee's. But Bill is generally fine with eating Thai food too.   "
   ]
  },
  {
   "cell_type": "markdown",
   "metadata": {},
   "source": [
    "#### Antwort:\n",
    "    <hier Lösung der Teilaufgabe 3.1>"
   ]
  },
  {
   "cell_type": "markdown",
   "metadata": {},
   "source": [
    "### A3.2: _(4 Punkte)_\n",
    "Benutzt die zu der Grammatik G3 gegebenen semantischen Attachments, um die semantische Bedeutung der Sätze S3 und S4 abzuleiten. Gebt jeweils die Zwischenschritte mit an. Hierfür benötigt ihr die Syntaxbäume der Sätze."
   ]
  },
  {
   "cell_type": "code",
   "execution_count": null,
   "metadata": {},
   "outputs": [],
   "source": [
    "N = Node\n",
    "plot_syntax_trees([\n",
    "    N(\"S3\", [N(\"NP\", [N(\"Det\", [N(\"Every\", is_terminal=True)]), N(\"Nominal\", [N(\"Noun\", [N(\"Restaurant\", is_terminal=True)])])]), N(\"VP\", [N(\"Verb\", [N(\"serves\", is_terminal=True)]), N(\"NP\", [N(\"ProperNoun\", [N(\"water\", is_terminal=True)])])])]),\n",
    "    N(\"S4\", [N(\"NP\", [N(\"ProperNoun\", [N(\"Applebee's\", is_terminal=True)])]), N(\"VP\", [N(\"Verb\", [N(\"serves\", is_terminal=True)]),N(\"NP\", [N(\"Det\", [N(\"every\", is_terminal=True)]), N(\"Nomi\", [N(\"Noun\", [N(\"meat\", is_terminal=True)])])])])])\n",
    "])"
   ]
  },
  {
   "cell_type": "markdown",
   "metadata": {},
   "source": [
    "| Grammatik G3 |  |  | Semantische Attachement für G3 |\n",
    "| ---:      |:---:| :---      |:---:                  |\n",
    "| S         | → | NP VP       |{NP.sem(VP.sem)}       |\n",
    "| NP        | → | Det Nominal |{Det.sem(Nominal.sem)} |\n",
    "| NP        | → | ProperNoun  |{ProperNoun.sem}       |\n",
    "| NP        | → | Nominal     |{Nominal.sem}          |\n",
    "| Nominal   | → | Noun        |{Noun.sem}             |\n",
    "| VP        | → | Verb NP     |{Verb.sem(NP.sem)}     |\n",
    "| Det       | → | _every_     |{λP.λQ.∀xP (x) ⇒ Q(x)} |\n",
    "| Noun      | → | _restaurant_|{λr.Restaurant(r)}     |\n",
    "| ProperNoun| → | _water_     |{λa.a(Water)}          |\n",
    "| Noun      | → | _meat_      |{λm.Meat(m)}           |\n",
    "| ProperNoun| → | _Applebee’s_|{λa.a(Applebee’s)}     |\n",
    "| Verb      | → | _serves_    |{λw.λz.w(λx.∃eServes(e) ∧ Server(e, z) ∧ Served(e, x))}|\n",
    "\n",
    "**S3:**\n",
    "> every restaurant serves water\n",
    "\n",
    "**S4:**\n",
    "> Applebee’s serves every meat"
   ]
  },
  {
   "cell_type": "markdown",
   "metadata": {},
   "source": [
    "#### Antwort:\n",
    "    <hier Lösung der Teilaufgabe 3.2>"
   ]
  }
 ],
 "metadata": {
  "kernelspec": {
   "display_name": "Python 3 (ipykernel)",
   "language": "python",
   "name": "python3"
  },
  "language_info": {
   "codemirror_mode": {
    "name": "ipython",
    "version": 3
   },
   "file_extension": ".py",
   "mimetype": "text/x-python",
   "name": "python",
   "nbconvert_exporter": "python",
   "pygments_lexer": "ipython3",
   "version": "3.9.16"
  }
 },
 "nbformat": 4,
 "nbformat_minor": 1
}
