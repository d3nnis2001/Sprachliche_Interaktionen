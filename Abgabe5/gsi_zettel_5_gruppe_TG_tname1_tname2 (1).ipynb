{
 "cells": [
  {
   "cell_type": "markdown",
   "metadata": {},
   "source": [
    "# Übungszettel 5 - Referenzgenerierung und Grounding\n",
    "### Abgabefrist: Freitag, 23. Juni 2023, 9:59 Uhr\n",
    "\n",
    "_Umbenennung des Jupyter Notebooks mit Gruppenname und Techfak-Kürzel!_\n",
    "\n",
    "Punkte insgesamt möglich: _20 Punkte_\n",
    "\n",
    "## Aufgabe 1: _(6 Punkte)_\n",
    "Gegeben sei der folgende Dialog zwischen dem Agenten (B)illie und einer (U)serin (bekannt aus Übungszettel 4)\n",
    "\n",
    "    B: Hallo!\n",
    "    U: Hi!\n",
    "    B: Was kann ich für dich tun?\n",
    "    U: Ich möchte einen Termin eintragen!\n",
    "    B: Mhm ... Ich verstehe!\n",
    "    B: Diese oder nächste Woche?\n",
    "    U: Weder noch! Der Termin ist in vier Wochen\n",
    "    U: …am 20. um genau zu sein.\n",
    "    B: Am 20. also ... hab ich das richtig verstanden?\n",
    "    U: Ja genau! Am Donnerstag um 10 Uhr.\n",
    "    U: Der Betreff ist „Meeting mit Klaus, Vorbereitung Projekttagung!“\n",
    "    B: Okay!\n",
    "    B: Donnerstag 10 Uhr „Meeting mit Klaus, Projekttagung.“\n",
    "    B: Ist das richtig?\n",
    "    U: Yupp!\n",
    "    B: Kann ich sonst noch was tun?\n",
    "    U: Nein! Nicht nötig! Danke dir!\n",
    "    B: Okay! Kein Problem!\n",
    "    B: Ich werde dich daran erinnern!\n",
    "    B: Man sieht sich!\n",
    "    U: Bis später!\n",
    "\n",
    "### A1.1: _(2 Punkte)_\n",
    "Beschreibt mit je einem Beispiel aus dem Dialog wie die 4 Maxime von Herbert Paul Grice eingehalten werden (vom Nutzer oder Billie)."
   ]
  },
  {
   "cell_type": "markdown",
   "metadata": {},
   "source": [
    "#### Antwort:\n",
    "    <hier Lösung der Teilaufgabe 1.1 (Enter oder Doppelklick auf Zelle)>"
   ]
  },
  {
   "cell_type": "markdown",
   "metadata": {},
   "source": [
    "### A1.2: _(2 Punkte)_\n",
    "Beschreibt wie die Maxime vom Nutzer nicht eingehalten werden könnten (bzw. nicht werden), indem ihr je Maxim eine andere Antwort (eurer Wahl) für den Nutzer euch überlegt."
   ]
  },
  {
   "cell_type": "markdown",
   "metadata": {},
   "source": [
    "#### Antwort:\n",
    "    <hier Lösung der Teilaufgabe 1.2>"
   ]
  },
  {
   "cell_type": "markdown",
   "metadata": {},
   "source": [
    "### A1.3: _(2 Punkte)_\n",
    "Beschreibt, ob es für den Agenten (bzw. für die Entwicklung eines solchen) eher schwierig ist die einzelnen Maxime einzuhalten oder nicht."
   ]
  },
  {
   "cell_type": "markdown",
   "metadata": {},
   "source": [
    "#### Antwort:\n",
    "    <hier Lösung der Teilaufgabe 1.3>"
   ]
  },
  {
   "cell_type": "markdown",
   "metadata": {},
   "source": [
    "## Aufgabe 2: _(7 Punkte)_"
   ]
  },
  {
   "cell_type": "code",
   "execution_count": null,
   "metadata": {},
   "outputs": [],
   "source": [
    "import random\n",
    "from typing import Dict, List\n",
    "\n",
    "random.seed(42)\n",
    "\n",
    "all_attributes = {\n",
    "    \"color\": [\"white\", \"yellow\", \"blue\", \"red\", \"green\", \"black\", \"brown\", \"azure\"],\n",
    "    \"position\": [\"left\", \"center\", \"right\"],\n",
    "    \"species\": [\"dog\", \"cat\", \"cow\", \"sheep\", \"rabbit\", \"duck\", \"chicken\", \"horse\", \"pig\", \"turkey\", \"chicken\", \"donkey\", \"goat\", \"llama\"],\n",
    "    \"age\": [\"young\", \"middle\", \"old\"],\n",
    "    \"size\": [\"small\", \"medium\", \"large\"],\n",
    "    \"value\": [\"cheap\", \"normal\", \"expensive\"],\n",
    "    \"emotion\": [\"happy\", \"afraid\", \"sad\", \"angry\", \"surprised\", \"disgusted\"],\n",
    "    \"danger_level\": [\"friendly\", \"dangerous\"],\n",
    "}\n",
    "\n",
    "samples_attributes = set([tuple([(name, random.choice(attributes)) for name, attributes in all_attributes.items()]) for i in range(random.randint(10, 100))])\n",
    "object_attributes = {f\"d{i}\": dict(attributes) for i, attributes in enumerate(samples_attributes)}\n",
    "domain = list(object_attributes.keys())\n",
    "number_objects = len(domain)\n",
    "\n",
    "def test_reference(reference, attributes_map, target_object):\n",
    "    if target_object not in attributes_map or not reference.items() <= attributes_map[target_object].items():\n",
    "        return False\n",
    "    return not any(reference.items() <= attributes.items() for o, attributes in attributes_map.items() if o != target_object)"
   ]
  },
  {
   "cell_type": "code",
   "execution_count": null,
   "metadata": {},
   "outputs": [],
   "source": [
    "lecture_attributes = {\"d1\": {\"Typ\": \"Mann\", \"Kleidung\": \"Anzug\", \"Position\": \"links\"}, \"d2\": {\"Typ\": \"Frau\", \"Kleidung\": \"T-Shirt\", \"Position\": \"mitte\"}, \"d3\": {\"Typ\": \"Mann\", \"Kleidung\": \"T-Shirt\", \"Position\": \"rechts\"}}\n",
    "lecture_target_object = \"d1\"\n",
    "lecture_reference_1 = {\"Typ\": \"Mann\", \"Kleidung\": \"Anzug\"}\n",
    "lecture_reference_2 = {\"Typ\": \"Mann\"}\n",
    "\n",
    "ref_1_unique_result = test_reference(lecture_reference_1, lecture_attributes, lecture_target_object)\n",
    "ref_2_unique_result = test_reference(lecture_reference_2, lecture_attributes, lecture_target_object)\n",
    "\n",
    "\n",
    "print(f\"{ref_1_unique_result=}; {ref_2_unique_result=}\")"
   ]
  },
  {
   "cell_type": "markdown",
   "metadata": {},
   "source": [
    "### A2.1: _(3 Punkte)_\n",
    "Implementiert den _Full Brevity Algorithmus_ und annotiert jede Code Zeile mit einer Erklärung was sie in dem jeweiligen Schritt tut (in natürlicher Sprache)."
   ]
  },
  {
   "cell_type": "code",
   "execution_count": null,
   "metadata": {},
   "outputs": [],
   "source": [
    "import itertools\n",
    "\n",
    "def full_brevity(attributes_map: Dict[str, Dict[str, str]], target_object: str) -> Dict[str, str]:\n",
    "    \n",
    "    # Eure Lösung hier\n",
    "    return attributes_map[target_object]\n",
    "    "
   ]
  },
  {
   "cell_type": "code",
   "execution_count": null,
   "metadata": {},
   "outputs": [],
   "source": [
    "for o in random.choices(domain, k=10):\n",
    "    full_brevity_unique_reference = test_reference(full_brevity(object_attributes, o), object_attributes, o)\n",
    "    print(f\"{o=}  ---> {full_brevity_unique_reference=}\")"
   ]
  },
  {
   "cell_type": "markdown",
   "metadata": {},
   "source": [
    "### A2.2: _(1,5 Punkte)_\n",
    "Erklärt (mind. zwei) Probleme vom _Full Brevity Algorithmus_ und nennt eine mögliche Vereinfachung."
   ]
  },
  {
   "cell_type": "markdown",
   "metadata": {},
   "source": [
    "#### Antwort:\n",
    "    <hier Lösung der Teilaufgabe 2.2>"
   ]
  },
  {
   "cell_type": "markdown",
   "metadata": {},
   "source": [
    "### A2.3: _(2,5 Punkte)_\n",
    "Implementiert den _\"Incremental Algorithm\"_ und annotiert jede Code Zeile mit einer Erklärung was sie in dem jeweiligen Schritt tut (in natürlicher Sprache)."
   ]
  },
  {
   "cell_type": "code",
   "execution_count": null,
   "metadata": {},
   "outputs": [],
   "source": [
    "pref_list = list(all_attributes.keys())\n",
    "random.shuffle(pref_list)\n",
    "print(pref_list)"
   ]
  },
  {
   "cell_type": "code",
   "execution_count": null,
   "metadata": {},
   "outputs": [],
   "source": [
    "def incremental(attributes_map: Dict[str, Dict[str, str]], target_object: str, preference_list: List[str], dom: List[str]) -> Dict[str, str]:\n",
    "    \n",
    "    # Eure Lösung hier\n",
    "    return attributes_map[target_object]\n"
   ]
  },
  {
   "cell_type": "code",
   "execution_count": null,
   "metadata": {},
   "outputs": [],
   "source": [
    "for o in random.choices(domain, k=10):\n",
    "    incremental_unique_reference = test_reference(incremental(object_attributes, o, pref_list, domain), object_attributes, o)\n",
    "    print(f\"{o}: {incremental_unique_reference}\")"
   ]
  },
  {
   "cell_type": "markdown",
   "metadata": {},
   "source": [
    "## Aufgabe 3: _(7 Punkte)_\n",
    "### A3.1: _(1 Punkt)_\n",
    " Erklärt das Prinzip der _co-presence_ anhand seiner Hilfsannahmen."
   ]
  },
  {
   "cell_type": "markdown",
   "metadata": {},
   "source": [
    "#### Antwort:\n",
    "    Bei der co-presence kann man unter 2 Kategorien unterscheiden. Einmal die Physical copresence und die Linguistic copresence. Dabei bezeiht sich die Physical copresence auf ein gemeinsames Situationswissen und die linugistische auf ein gemeinsames Interaktionswissen.\n",
    "    Dabei hat die Physical copresence mehrere Hilfannahmen:\n",
    "\n",
    "    1. simultaneity: Das Gefühl als wenn man mit anderen Personen gleichzeitig anwesend ist, obwohl man vielleicht nicht umbedingt sich in der Nähe der Person befindet\n",
    "    2. attention: Aufmerksamkeit muss auf die gemeinsame Interaktion/Erlebnis gerichtet werden \n",
    "    3. rationality: rationes Denken der Teilnehmer\n",
    "    4. locatability: Anwesendheit lokalisieren\n",
    "    5. recallability: Das speichern von den Interaktionen und Erlebnissen\n",
    "\n",
    "    Dabei sieht man, dass die einzelnen Hilfsannahmen sich alle darauf beziehen, wie man sich in einer Person fühlt, was man denkt und wie man es wahrnimmt.\n",
    "\n",
    "    Linguistic copresence: Dabei geht es hier explizit um die Interaktion. Versteht die eine Persond die andere richtig? Ist die Sitation so relevant, dass diese sich germerkt wird? Passt die andere Person auf was du sagst? Alles dreht sich darum wie eine Person die Interaktion und nicht die Situation warnimmt."
   ]
  },
  {
   "cell_type": "markdown",
   "metadata": {},
   "source": [
    "### A3.2: _(1,5 Punkte)_\n",
    "Formuliert je ein Beispiel für _co-presence_ durch Community-Membership, durch _potential physical co-presence_ und durch _prior linguistic co-presence_. Erwähnt für jedes eurer Beispiele kurz wie dort _Mutual Knowledge_ zustande kommt."
   ]
  },
  {
   "cell_type": "markdown",
   "metadata": {},
   "source": [
    "#### Antwort:\n",
    "    Community-Membership:\n",
    "    Beispiel: Der Lifestyle eines Otakus hat sich bereits in Deutschland weit verbreitet und obwohl die ganzen Otakus nicht am selben Ort sind fühlen sie sich verbunden. Es gibt zahlreiche online communitys und chats für diese bizarren Menschen. Alle kennen sich mit den Mainstream Anime aus. Vorallem Attack on Titan weil dieser göttlich ist. Mutual Knowledge: Alle besitzen ein gewisses Wissen über die meisten gehyped anime. Dieses wissen ist allerdings nur teilweise identisch, da man Anime vergisst und teilweise anders im Kopf hat. Alle otaku wissen allerdings voneinander das sie anime gucken. Meistens haben die sowieso so cosplays an und so und daran erkennt man die.\n",
    "\n",
    "    Physical co-presence:\n",
    "    Beispiel: Sie kaufen die neue Apple Vision Pro für schmackhafte 3499 Euro und wollen nun an den täglichen Job Konferenzen teilnehmen. Obwohl Sie sich nicht im selben Raum wie die anderen Leute befinden fühlen sie sich co-presence weil diese Brille fantastisch ist. Sie können ihre Arbeitskollegen sehen, hören und mit ihren interagieren um Informtionen auszutauschen. Das gegenseitige Wissen entsteht durch die 4k Linse und den auditiven Wanehmungen die sie während der Konferenz erleben. Alle sehen und nehmen teilweise das selbe wahr und verfügen über die gleichen Informationen die in der Konferenz mitgeteilt werden. \n",
    "\n",
    "    Linguistic co-presence:\n",
    "    Sie treffen sich im Metaverse mit einen alten Schulfreund und reden mit diesen über aktuellen Themen wie die Klimakleber und die Klimaerwärmung. Sie sind zwar räumlich getrennt aber sie fühlen sich trotzdem co-präsent und verstehen sich sprachlich miteinandern und erzählen Geschichten aus der alten Schulzeit. Sie verstehen alles was sie sagen da sie die Erlebnisse gemeinsam erlebt haben. Die interaktion befindet sich auf einenn common ground der schulzeit."
   ]
  },
  {
   "cell_type": "markdown",
   "metadata": {},
   "source": [
    "### A3.3: _(2 Punkt)_\n",
    " Erläutert den Begriff _grounding_ und wie er mit den Begriffen _Mutual Knowledge_ und _Common Ground_ in Verbindung steht."
   ]
  },
  {
   "cell_type": "markdown",
   "metadata": {},
   "source": [
    "#### Antwort:\n",
    "    Der Begriff grounding steht für den Prozess des Aktualisierens des Common Ground durch eine Contribution. Dabei ist der Common Ground die Menge von gemeinsamen Wissen zwischen 2 oder mehr Personen. Eine Contribution ist dabei eine oder mehrere gemeinsame Handlungen zwischen 2 Gesprächspartnern. Diese besteht aus einer Presentations Phase, wo der eine Gesprächspartner versucht den anderen Inhalt zu präsentieren und die Acceptance Phase, wo der andere Gesprächspartner die Aufgabe hat Hinweise für das verstehen der Präsentation zu geben.\n",
    "    Zurück zum Grounding: Das Grounding Kriterium besagt, dass eine contribution als grounded angenommen wird, wenn es zwischen 2 Gesprächspartnern mutual knowledge ist. Mutual Knowledge ist dabei das gemeinsame Wissen was sie haben und wissen das sie es voneinander haben. Eine weiterer Anmerkung ist dabei, dass das Grounding Kriterium je nach Situation unterschiedlich ausfallen kann. "
   ]
  },
  {
   "cell_type": "markdown",
   "metadata": {},
   "source": [
    "### A3.4: _(2,5 Punkte)_\n",
    "    Erläutert auf welche verschiedene Arten Dialogpartner Hinweise geben, um Verstehen zu signalisieren."
   ]
  },
  {
   "cell_type": "markdown",
   "metadata": {},
   "source": [
    "#### Antwort:\n",
    "    Um den Dialogpartner Verstehen zu signalisieren könnte man folgende Sachen machen:\n",
    "\n",
    "    1. Mann könnte aufmerksam sein. Aufmerksamkeit erscheint als wenn die Person dem Dialog folgen kann was Verständnis signalisiert. \n",
    "    2. eine relevante Äußerung machen. Dabei gehören Anmerkungen oder zwischen fragen um zu zeigen, dass Interesse besteht und auf den jetzigen Kontext weitere Schlüsse gezogen werden können. \n",
    "    3. Durch verschiedene Presentationen die Aussagen acknowledgen. Dabei gehören kleine Aussagen wie z.B. sowas wie ein \"Ja\" mittendrinne in der Konversation oder ein \"Mhmm\". Dabei spielt die Körpersprache auch eine große Rolle. \n",
    "    4. Demonstrieren das die Presentation verstandne wurde durch z.B. seiner Meinung preisgeben oder dann anschließend ein Ähnliches Thema zu erwähnen. \n",
    "    5. Zeigen, dass man den Inhalt mit eigenen Worten wiedergeben kann ohne die Bedeutung/den Inhalt zu ändern. Damit zeigt man am besten, dass der Inhalt verstanden wurde. "
   ]
  }
 ],
 "metadata": {
  "kernelspec": {
   "display_name": "Python 3 (ipykernel)",
   "language": "python",
   "name": "python3"
  },
  "language_info": {
   "codemirror_mode": {
    "name": "ipython",
    "version": 3
   },
   "file_extension": ".py",
   "mimetype": "text/x-python",
   "name": "python",
   "nbconvert_exporter": "python",
   "pygments_lexer": "ipython3",
   "version": "3.9.16"
  }
 },
 "nbformat": 4,
 "nbformat_minor": 1
}
