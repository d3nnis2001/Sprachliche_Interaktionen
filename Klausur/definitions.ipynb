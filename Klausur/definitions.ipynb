{
 "cells": [
  {
   "cell_type": "markdown",
   "metadata": {},
   "source": [
    "Hinweis 1: Die Klausur wird überwiegend euer über die Veranstaltung vorhandenes Wissen mittels\n",
    "Aufgaben abfragen, welche von euch eine Anwendung von Algorithmen und Problemen verlangt. Folgende\n",
    "Bereiche könnten vorkommen:\n",
    "a) Cohen’s Kappa berechnen1\n",
    "b) Finite State Lexikon, Transducer erstellen2\n",
    "c) Syntax Parsing, CKY durchführen3\n",
    "d) Semantik mittels Attachments ableiten4\n",
    "e) Reference Expressions Algorithmen anwenden.5\n",
    "f) Dialog Management Repräsentationen für Szenario darstellen6\n",
    "\n",
    "\n",
    "Hinweis 2: Folgende Schlagworte sollte euch als Teilnehmer der Veranstaltung „Grundlagen Sprachlicher\n",
    "Interaktion“ nicht unbekannt sein:\n",
    "Korpus, Transkription, Floor Transfer Offset, Syntax, Grammatik, Konstituente, Bottom-up, Topdown, Chomsky, Morphem, Kohärenz, Kohäsion, konstitutiver, performativer Akt, Kraft, lokutionärer, illokutionärer, perlokutionärer Akt, (Haupttypen) Sprechakte, Dialogakte, Searle, DIT++,\n",
    "Traum Annotationen, Referenz, NP-hart, Mutual Knowledge, Grounding, Dialog Management,\n",
    "-Aufgaben, Turn-Taking, -Cues, -Eigenschaften, Multimodalität, BML, ikonische Gesten, LSTM,\n",
    "Transformer, Large Language Model, Embeddings, Annotationsebenen, Annotationsarten, Flexion, Derivation, Attachment Ambiguität, Coordination\n",
    "Ambiguität, Lambda Notation, Diskursrelation, Discourseparsing, ostensiv–inferenzielle Kommunikation, Prinzipien der Kooperativität, Kopräsenz (co-presence), Information-State Update\n",
    "Turn-constructional unit, Turn-taking machine, sequence-to-sequence mapping, Encoder, Decoder,\n",
    "RNN,"
   ]
  },
  {
   "cell_type": "markdown",
   "metadata": {},
   "source": [
    "### Korpus:\n",
    "\n",
    "Datenansammlung die entweder text oder audio sein kann, welche genutzt wird um Modelle mit Daten zu füttern. Dabei sind die Daten meist annotiert. \n",
    "\n",
    "### Transkription:\n",
    "\n",
    "Überführung von Audio zu Text. Dabei gehen allerdings sprachliche Informationen verloren und dies kann entweder manuell oder automatisch erfolgen.\n",
    "\n",
    "### Floor Transfer Offset:\n",
    "\n",
    "idk\n",
    "\n",
    "### Syntax:\n",
    "\n",
    "Die Syntax ist generell einfach der Aufbau wie eine Sprache aufgebaut ist. Im Bezug auf der sprachlichen Interaktion kann man folgendes sagen:\n",
    "Fokus der Syntax: Wie fügen sich Wörter zu Phrasen und Phrasen zu Sätzen?\n",
    "Also wie genau ist der Aufbau der einzelnne Wörter und der Bausteine davon\n",
    "\n",
    "### Grammatik:\n",
    "\n",
    "Eine Grammatik ist eine Liste von Regeln die genutzt wird, um die Sprache zu strukturieren. Dabei bestimmen die Syntax und Grammatik eine Sprache. \n",
    "\n",
    "### Konstituente:\n",
    "\n",
    "Eine Konstituente oder auch Phrase genannt ist eine Gruppe von Wörtern, welche sich wie eine Einheit verhalten. Dabei gibt es 6 verschiedene Tests um zu \"bestimmen\" ob eine Gruppe von Wörtern eine Konstituente ist. Allerdings sind diese tests nur Indizien.\n",
    "\n",
    "Dabei sind manche dieser Tests:\n",
    "\n",
    "Substitutionstest: Wenn man ein Teil des Satzes mit einen anderen ersetzen kann und es entsteht weiterhin ein sinnvoller satz ist dies ein indiz.\n",
    "\n",
    "Pronominaliserungstest:\n",
    "\n",
    "Wenn man ein Pronomen an Anfang eines Satzes stellen kann -> Indiz\n",
    "\n",
    "Fragetest:\n",
    "\n",
    "Wenn sich eine Wortfolge erfragen lässt ist das ein Indiz\n",
    "\n",
    "Permutationstest:\n",
    "\n",
    "Wenn man teile der Wortfolge an eine eine andere Stelle innerhalb der Wortmenge packt und trotzdem ein sinnvoller satz rauskommt ist dies ein Indiz\n",
    "\n",
    "### Bottom-Up\n",
    "\n",
    "\n"
   ]
  }
 ],
 "metadata": {
  "language_info": {
   "name": "python"
  },
  "orig_nbformat": 4
 },
 "nbformat": 4,
 "nbformat_minor": 2
}
