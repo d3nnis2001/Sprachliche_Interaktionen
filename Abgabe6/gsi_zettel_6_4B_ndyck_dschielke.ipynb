{
 "cells": [
  {
   "cell_type": "markdown",
   "metadata": {},
   "source": [
    "# Übungszettel 6 - Dialogmanagement und Turn-Taking\n",
    "### Abgabefrist: Freitag, 7. Juli 2023, 9:59 Uhr\n",
    "\n",
    "_Umbenennung des Jupyter Notebooks mit Gruppenname und Techfak-Kürzel!_\n",
    "\n",
    "Punkte insgesamt möglich: _20 Punkte_\n",
    "\n",
    "## Aufgabe 1: _(5,5 Punkte)_\n",
    "### A1.1: _(2 Punkte)_\n",
    "Erläutert den Begriff _Dialogmanagement_, sowie die Begriffe _Thema_ und _Historie_."
   ]
  },
  {
   "cell_type": "markdown",
   "metadata": {},
   "source": [
    "#### Antwort:\n",
    "    Ein Dialogmanagement bezieht sich auf die Verwaltung und Steuerung von Dialogen. Dabei umfasst es die Fähigkeit Eingaben des Nutzers zu verstehen und richtig darauf zu reagieren und den Dialog auf den Kontext bezogen weiterzuführen. Dabei muss das Dialogsystem außerdem Informationen für den Nutzer ausgeben können, Probleme erklären können oder nichtsprachliche Aktionen ausführen können. \n",
    "\n",
    "    - Thema:\n",
    "    Das Thema bezieht sich auf den aktuellen Inhalt oder Kontext des Diagloges. Es ist ein Teil einer der beiden zentralen Probleme die ein Dialogmanagement System lösen muss. Das Dialogsystem muss halt das Thema richtig identifizieren können um eine geeignete Antwort zu formulieren. Z.B. wenn man fragt was \"run\" auf deutsch bedeutet. Ohne den eigentlichen Kontext und das Thema zu verstehen kann run je nach Satz und Inhalt andere Bedeutungen haben. Du kannst z.B. sagen \"i run fast\" oder man kann auch sagen \"i run a business\". Beides hat eine andere Bedeutung und das Dialogsystem muss dies richtig identifizieren können. \n",
    "\n",
    "    - Historie:\n",
    "    Die Historie bezieht sich dabei auf den Verlauf des Dialogs. Dabei muss das Dialogsystem teilweise die vergangenen Antworten mit einbeziehen, damit er die jeweiligen Probleme im richtigen Kontext lösen kann. Wie z.B. bei ChatGPT. Wenn du ihn eine Frage bezüglich z.B. Java stellst und ihn im selben Chatverlauf ihn danach fragst ob er die etwas programmieren kann ohne die Programmiersprache zu definieren wird er aus den Chatverlauf entnehmen, dass du es in Java möchtest."
   ]
  },
  {
   "cell_type": "markdown",
   "metadata": {},
   "source": [
    "### A1.2: _(1,5 Punkte)_\n",
    "Erläutert in eigenen Worten wie sich die Ansätze des Dialogmanagements über die Zeit hinweg geändert haben."
   ]
  },
  {
   "cell_type": "markdown",
   "metadata": {},
   "source": [
    "#### Antwort:\n",
    "    Vor 1990: \n",
    "    Zu diesem Zeitalter waren es regelbasierte/symbolische Dialogmanagement Systeme. Diese basierten auf Graphen oder frames und der Fokus war Grounding Prozesse und Protokolle also sogesagt war der Schwerpunkt, dass man versucht hat die Bedeutung und Absicht des Dialogs mit den System zu klären damit beide die gleiche Grundlagen haben.\n",
    "    1990-2010:\n",
    "    In diesem Zeitalter waren die Systeme statisch. Sie basierten eher auf Wahrscheinlichkeiten wobei die Bayes Netze eine große Rolle spielten. Außerdem waren optimierte probabilistische Entscheidungsmodelle wie der MDP und der POMDP ein großes Ding, welche auf Datensätzen trainiert wurden. Es wurde sogesagt versucht Machine Learning anzuwenden, um eine richtige Antwort mit einer hohen Wahrscheinlichkeit zu kriegen. Dabei wurde Reinforcement Learning benutzt was soviel ist wie wiederholte Trial-and-Error Interaktionen. Das system hat selber gelernt, um eine richtige Antwort mit einer hohen Wahrscheinlichkeit zu geben. \n",
    "    2010-2015:\n",
    "    Das Zeitalter der Neuronalen Netzwerke ist geboren. Es ist dasselbe wie die Generation davor. Man hat viele Daten und trainiert sein Modell darauf. Der einzige Unterschied ist, dass die Modelle mit Neuronalen Netzen trainiert werden. \n",
    "    Diese sind viel besser geeingnet als z.B. Reinforcment Learning. "
   ]
  },
  {
   "cell_type": "markdown",
   "metadata": {},
   "source": [
    "### A1.3: _(2 Punkte)_\n",
    "Nennt mind. zwei Anwendungen aus dem Alltag in denen eine Form oder Abwandlung von Dialogmanagement mit einem künstlichen Interaktionspartner vorkommt. Wie sind in diesen Beispielen die Möglichkeit der Initiativen auf die Interaktionsteilnehmer verteilt? Welche Aspekte des _Dialogzustands_ werden vom System erkannt, verarbeitet, berücksichtigt? Wie nah kommen die \"Dialoge\" einer natürlichen Interaktion?"
   ]
  },
  {
   "cell_type": "markdown",
   "metadata": {},
   "source": [
    "#### Antwort:\n",
    "    Das erste Beispiel ist natürlich Alexa, Siri und co. Diese ermöglichen eine sprachbasierte Interaktion zwischen den Nutzer und dem System. Dabei ist dies ein reines Sprachsystem, welches folgende Aspekte erkennt, verabeitet und berücksichtigt:\n",
    "    - Es erkennt deine Sprache und mehr auch nicht. Es verabeitet diese und berücksichtigt dabei nicht die Aussprache und je nach Situation den Kontext auch nicht. Dieses Beispiel kommt einer natürlichen Interaktion schon ein wenig nah, da er dir zuhört und antwortet was die Hauptkomponenten einer Interaktion sind. Allerdings fehlen Aspekte wie z.B. Gestik und Mimik und Emotionen und verschiedene Stimmenlagen die nochmal was über die Sprahclichen Mittel wie z.B. Ironie aussagen. \n",
    "\n",
    "    Das zweite Beispiel ist ChatGPT. Dieses System ermöglicht dir eine Interaktion zwischen Nutzer und System per Chat. Dabei berücksichtigt ChatGPT den Kontext, den Chatverlauf, Ironie und weiteres. Er kannn allerdings nicht mit dir reden und versteht auch keine Emotionen. Er ist lediglich trainiert auf einen riesigen Datensatz und gibt dir präzise Anworten auf deine Probleme."
   ]
  },
  {
   "cell_type": "markdown",
   "metadata": {},
   "source": [
    "## Aufgabe 2: _(3 Punkte)_\n",
    "### A2.1: _(1 Punkte)_\n",
    " Erläutert das Konzept von Traums Groundingmodell. Wie funktioniert es und wie könnte es sinnvoll erweitert werden?"
   ]
  },
  {
   "cell_type": "markdown",
   "metadata": {},
   "source": [
    "#### Antwort:\n",
    "    <hier Lösung der Teilaufgabe 2.1>"
   ]
  },
  {
   "cell_type": "markdown",
   "metadata": {},
   "source": [
    "### A2.2: _(2 Punkte)_\n",
    "Annotiert den folgenden Dialog mit Traums _grounding acts_ und markiert Stellen, an denen ein _final_ bzw. _dead_ State erreicht wurde.\n",
    "\n",
    "    K: Hi!\n",
    "    B: Hallo! Schön Sie zu sehen!\n",
    "    B: Was kann ich heute für Sie tun?\n",
    "    K: Ich hätte gerne 5 Brötchen!\n",
    "    B: Gerne! Die aus Dinkel oder die aus Roggen?\n",
    "    K: Roggen bitte!\n",
    "    B: Kein Problem!\n",
    "    B: Darf es noch etwas sein?\n",
    "    K: Nein Danke, das wars für heute!"
   ]
  },
  {
   "cell_type": "markdown",
   "metadata": {},
   "source": [
    "#### Antwort:\n",
    "    <hier Lösung der Teilaufgabe 2.2>"
   ]
  },
  {
   "cell_type": "markdown",
   "metadata": {},
   "source": [
    "## Aufgabe 3: _(7,5 Punkte)_\n",
    "### A3.1: _(1,5 Punkte)_\n",
    "Erklärt das Graph-basierte und Frame-basierte Dialogmanagement. Wie unterscheiden sie sich (Vorteile/Nachteile)?"
   ]
  },
  {
   "cell_type": "markdown",
   "metadata": {},
   "source": [
    "#### Antwort:\n",
    "    <hier Lösung der Teilaufgabe 3.1>"
   ]
  },
  {
   "cell_type": "markdown",
   "metadata": {},
   "source": [
    "-----\n",
    "Szenario: **Einreise in die USA**\n",
    "\n",
    "Für die Reise in die USA gelten bestimmte Voraussetzungen. Ein virtueller Agent soll diese in einem Dialog mit den Reisenden überprüfen. Weitere Informationen: [https://www.americandream.de/einreise-usa/](https://www.americandream.de/einreise-usa/)\n",
    "\n",
    "**Anforderungen** an beide Systeme:\n",
    "\n",
    "Das System überprüft \"sinnvoll\" die Punkte unter _\"Voraussetzungen für eine USA-Reise\"_ im obigen Link.\n",
    "- Die Abhängigkeit von Reisepass, Greencard, ESTA und US-Visum soll abgebildet sein (Überschrift _\"Reisepass für USA-Reise\"_)\n",
    "- Für die Gefahren kann man sich hier orientieren [https://www.visum-usa.de/einreiseverbot-in-die-usa/](https://www.visum-usa.de/einreiseverbot-in-die-usa/) (mindestens Gesundheitliche Gründe und Vorstrafen)\n",
    "- Länder für eine Einreisesperre findet ihr hier: [https://worldpopulationreview.com/country-rankings/travel-ban-countries](https://worldpopulationreview.com/country-rankings/travel-ban-countries)\n",
    "- Einwanderungsabsichten sollen abgefragt werden\n",
    "- Grenzbeamte Befragung: Stellt alle Fragen so oder in abgewandelter Form, die unter _\"Passkontrolle beim Grenzbeamten\"_ stehen\n",
    "- Die Reihenfolge der Fragen könnt ihr verändern, wenn es das Design des Dialogs einfacher macht.\n",
    "\n",
    "Das System soll konsistent in der verwendeten Sprache (eurer Wahl) bleiben: Deutsch oder Englisch.\n",
    "\n",
    "\n",
    "Installation von `graphviz` notwendig (Bereits in Übungszettel 2 installiert).\n",
    "\n",
    "Eine ähnliche Klasse wie von Übungszettel 2 für das Plotten von FSMs (hier des Graph-basierte System):"
   ]
  },
  {
   "cell_type": "code",
   "execution_count": null,
   "metadata": {},
   "outputs": [],
   "source": [
    "import graphviz\n",
    "from collections import defaultdict\n",
    "from typing import Dict, Tuple, Iterable\n",
    "\n",
    "class FiniteStatePlot:\n",
    "    \"\"\" info: do not use \"_s_\" as a state name \"\"\"\n",
    "\n",
    "    def __init__(self, transitions:Dict[str, Tuple[str, str]]=None, final_states:Iterable[str]=None, start_state:str=None):\n",
    "        self.start_state = start_state\n",
    "        self.transitions = defaultdict(list)  # key:source_state; entries: list of (target_state, condition)  / adjacency list\n",
    "        if transitions:\n",
    "            self.transitions.update(transitions)\n",
    "        self.final_states = final_states if final_states else set()\n",
    "\n",
    "    def transition(self, source, target, condition=\"\"):\n",
    "        \"\"\" create transition from source state to target state with a condition. \"\"\"\n",
    "        self.transitions[source].append((target, condition))\n",
    "\n",
    "    def state(self, name, is_final=False, is_start=False):\n",
    "        \"\"\" assign final and start properties to a state. (Add the state to the adjacency list, not necessary because of defaultdict but useful for counting number of nodes) \"\"\"\n",
    "        if name not in self.transitions:\n",
    "            self.transitions[name] = []\n",
    "        if is_final:\n",
    "            self.final_states.update([name])\n",
    "        elif name in self.final_states:\n",
    "            self.final_states.remove(name)\n",
    "        if is_start:\n",
    "            self.start_state = name\n",
    "\n",
    "    def plot(self):\n",
    "        \"\"\" plot the finite state machine with graphviz in jupyter-notebook if the method call is the last statement in a jupyter cell.\"\"\"\n",
    "\n",
    "        return graphviz.Source(f\"\"\"\n",
    "        digraph finite_state_machine {{\n",
    "            graph[splines=ortho, nodesep=\"2.5\"]\n",
    "            fontname=\"Helvetica,Arial,sans-serif\"\n",
    "            node [fontname=\"Helvetica,Arial,sans-serif\"]\n",
    "            edge [fontname=\"Helvetica,Arial,sans-serif\"]\n",
    "            rankdir=TB;\n",
    "            {f\"node [shape = point ]; _s_\" if self.start_state else \"\"}\n",
    "            node [shape = rect, color=red]; {\" \".join(self.final_states) + (\";\" if self.final_states else \"\")}\n",
    "            node [shape = rect, color=black];\n",
    "            {f\"_s_ -> {self.start_state};\" if self.start_state else \"\"}\n",
    "            {\"\".join(f'{s} -> {t} [xlabel = \"{condition}\"]' for s, transitions in self.transitions.items() for (t, condition) in transitions)}\n",
    "        }}\n",
    "        \"\"\")\n",
    "\n",
    "# Abgewandeltes Beispiel aus der Vorlesung\n",
    "hello_goodbye = FiniteStatePlot()\n",
    "hello_goodbye.state(\"hallo\", is_start=True)\n",
    "hello_goodbye.state(\"tschüss\", is_final=True)\n",
    "hello_goodbye.transition(source=\"hallo\", target=\"wann_beginnt_der_Termin\", condition=\"<greeting>\")\n",
    "hello_goodbye.transition(source=\"wann_beginnt_der_Termin\", target=\"also_um_START\", condition=\"<mentions_time.start:TIME>\")\n",
    "hello_goodbye.transition(source=\"also_um_START\", target=\"bis_wann_geht_der_Termin\", condition=\"<positive_answer>\")\n",
    "hello_goodbye.transition(source=\"also_um_START\", target=\"wann_beginnt_der_Termin\", condition=\"<negative_answer>\")\n",
    "hello_goodbye.transition(source=\"bis_wann_geht_der_Termin\", target=\"also_bis_END_Uhr\", condition=\"<mentions_time.end:TIME>\")\n",
    "hello_goodbye.transition(source=\"also_bis_END_Uhr\", target=\"tschüss\", condition=\"<positive_answer>\")\n",
    "hello_goodbye.transition(source=\"also_bis_END_Uhr\", target=\"bis_wann_geht_der_Termin\", condition=\"<negative_answer>\")\n",
    "hello_goodbye.transition(source=\"bis_wann_geht_der_Termin\", target=\"hallo\", condition=\"<reset>\")\n",
    "hello_goodbye.transition(source=\"also_bis_END_Uhr\", target=\"hallo\", condition=\"<reset>\")\n",
    "hello_goodbye.plot()"
   ]
  },
  {
   "cell_type": "markdown",
   "metadata": {},
   "source": [
    "### A3.2: _(3 Punkte)_\n",
    "Erstellt eine Representation des Systems für eine Graph-basierte Dialogmanagement Variante.\n",
    "- Start und Final Nodes angeben mittels `state`-Methode\n",
    "- Die States/Knoten und die Übergänge im Graphen können man mit der `transition`-Methode angegeben werden.\n",
    "- Die Nutzerantworten sollen als abstrakte _Intentions_ mit _Entities_ angeben werden, die relevant für den Dialog sind und auch extrahiert werden sollen. Beispiel: `<mentions_time.start:TIME>` => intent: `mentions_time` und entity: `start` mit type: `TIME`. Ihr dürft euch eure Intentions und Entities für diesen Anwendungsfall ausdenken.\n",
    "- Leerzeichen sind als State/Knoten Bezeichnung nicht angedacht, nutzt Unterstriche `_`. Ebenso Fragezeichen/Ausrufezeichen (allgemein Sonderzeichen), versucht diese zu umschiffen/wegzulassen."
   ]
  },
  {
   "cell_type": "code",
   "execution_count": null,
   "metadata": {
    "pycharm": {
     "is_executing": true
    }
   },
   "outputs": [],
   "source": [
    "check_usa_entry = FiniteStatePlot()\n",
    "# Eure Lösung hier\n",
    "\n",
    "check_usa_entry.plot()"
   ]
  },
  {
   "cell_type": "markdown",
   "metadata": {},
   "source": [
    "### A3.3: _(3 Punkte)_\n",
    "Erstellt eine Representation des Systems für eine Frame-basiertes Dialogmanagement Variante.\n",
    "- Entwickelt ein Frame, der die Anforderungen erfüllen kann mit sinnvoller Benennung der Slots und passenden Typen, die man aus Nutzerantworten extrahieren kann.\n",
    "- Erstellt eine Liste von Formulierungen/Fragen, die der Agent nutzen kann, um die Slots gezielt nachzufragen.\n",
    "- Gebt zusätzlich, beispielhaft zwei Agentenfragen und dazugehörige Nutzerantworten an und wie der Frame für diese davor und danach aussieht. (Wie auf den Folien)\n",
    "- Beschreibt wie ihr bei einer Implementierung die Abhängigkeiten der Slots umsetzen würdet."
   ]
  },
  {
   "cell_type": "markdown",
   "metadata": {},
   "source": [
    "#### Antwort:\n",
    "    <hier Lösung der Teilaufgabe 3.2>\n",
    "\n",
    "            Frame:\n",
    "            ----------------------------------------------------------\n",
    "            |                                                        |\n",
    "            |                                                        |\n",
    "\n",
    "\n",
    "            |                                                        |\n",
    "            |                                                        |\n",
    "            ----------------------------------------------------------\n",
    "\n",
    "\n",
    "|----------|------------------------|\n",
    "| **Slot** | **Formulierung/Frage** |\n",
    "|:---------|:-----------------------|\n",
    "|          |                        |\n",
    "|          |                        |\n",
    "|          |                        |\n",
    "\n",
    "...\n",
    "\n",
    "            Euer Beispiel:  (2 Fragen + 2 Antworten; je ein Frame dazwischen => 3 Frames) (Wie auf den Folien)\n"
   ]
  },
  {
   "cell_type": "markdown",
   "metadata": {},
   "source": [
    "## Aufgabe 4: _(4 Punkte)_\n",
    "### A4.1: _(1 Punkt)_\n",
    "Erklärt den Begriff des Turn-Managements."
   ]
  },
  {
   "cell_type": "markdown",
   "metadata": {},
   "source": [
    "#### Antwort:\n",
    "    <hier Lösung der Teilaufgabe 4.1>"
   ]
  },
  {
   "cell_type": "markdown",
   "metadata": {},
   "source": [
    "### A4.2: _(3 Punkte)_\n",
    "Benutzt das Video `office-scene-long-1.mp4` um für jede der 14 Eigenschaften des Turn-Takings ein Beispiel zu finden. Beschreibt die gefundenen Situationen wie im folgenden Beispiel angegeben. Für Eigenschaften, die keine Beispielsituation in dem Video haben, formuliert bitte selbst eine Situation/Aussage.\n",
    "\n",
    "Beispiel:\n",
    "    (1) _speaker-change recurs_: occurs: Min. X:YZ-A:BC. recurs: Der Sprecher wechselt J-mal im Video."
   ]
  },
  {
   "cell_type": "code",
   "execution_count": null,
   "metadata": {},
   "outputs": [],
   "source": [
    "%%HTML\n",
    "<center>\n",
    "<video width=\"640\" height=\"480\" controls>\n",
    "  <source src=\"./office-scene-long-1.mp4\" type=\"video/mp4\">\n",
    "</video>\n",
    "</center>"
   ]
  },
  {
   "cell_type": "markdown",
   "metadata": {},
   "source": [
    "#### Antwort:\n",
    "    <hier Lösung der Teilaufgabe 4.2>"
   ]
  }
 ],
 "metadata": {
  "kernelspec": {
   "display_name": "Python 3 (ipykernel)",
   "language": "python",
   "name": "python3"
  },
  "language_info": {
   "codemirror_mode": {
    "name": "ipython",
    "version": 3
   },
   "file_extension": ".py",
   "mimetype": "text/x-python",
   "name": "python",
   "nbconvert_exporter": "python",
   "pygments_lexer": "ipython3",
   "version": "3.9.16"
  }
 },
 "nbformat": 4,
 "nbformat_minor": 1
}
