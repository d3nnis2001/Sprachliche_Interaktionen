{
 "cells": [
  {
   "attachments": {},
   "cell_type": "markdown",
   "metadata": {},
   "source": [
    "# Übungszettel 4 - Diskurs, Sprech- und Dialogakte\n",
    "### Abgabefrist: Freitag, 9. Juni 2023, 9:59 Uhr\n",
    "\n",
    "_Umbenennung des Jupyter Notebooks mit Gruppenname und Techfak-Kürzel!_\n",
    "\n",
    "Punkte insgesamt möglich: _20 Punkte_\n",
    "\n",
    "## Aufgabe 1: _(3 Punkte)_\n",
    "### A1.1: _(1 Punkt)_\n",
    "Erklärt den Unterschied zwischen Kohärenz und Kohäsion in eigenen Worten."
   ]
  },
  {
   "attachments": {},
   "cell_type": "markdown",
   "metadata": {},
   "source": [
    "#### Antwort:\n",
    "    Der Unterschied zwischen einer Kohärenz und einer Kohäsion ist, dass sich die Kohärenz im allgemeinen auf Beziehung von logischen und zusammenhängenden Anordnungen von Informationen handelt. In diesem Fall durc formale linguistische Oberflächenmerkmale (grammatisch, lexikalisch). Sogesagt bilden Sätze einen kohärenten Diskurs, wenn die Sätze Beziehungen untereinander aufzeigen, einführen und ihnen fokussiert folgen. \n",
    "    Eine Kohäsion auf der anderen Seite beschreibt die Beziehung zwischen den Sätzen und den linguistischen Merkmalen oder man könnte auch sagen den sprachlichen Mittel. Diese linguistischen Merkmale bilden zusammen eine Einheit. Dabei ist die Kohäsion mehr eine Interpretation von Sprache und die Kohärenz eine eher logische rangehensweise. \n",
    "\n",
    "    Also nochmal kurz: Kohärenz bezieht sich auf inhaltliche Klarheit und Zusammenhang und Kohäsion auf die sprachlichen Mittel die die verschiedenen Teile eines Textes verbinden."
   ]
  },
  {
   "attachments": {},
   "cell_type": "markdown",
   "metadata": {},
   "source": [
    "### A1.2: _(2 Punkte)_\n",
    "Erläutert wie sich mit Hilfe der Rhetorical Structure Theory flaches Diskurs-Parsing umsetzen lassen könnte."
   ]
  },
  {
   "attachments": {},
   "cell_type": "markdown",
   "metadata": {},
   "source": [
    "#### Antwort:\n",
    "\n",
    "Beim Diskurs-Parsing wird der Text in eine hierachische Struktur von Diskursrelationen zugeorndet. \n",
    "\n",
    "1. Der Text wird eingeteilt in \n",
    "    "
   ]
  },
  {
   "attachments": {},
   "cell_type": "markdown",
   "metadata": {},
   "source": [
    "## Aufgabe 2: _(10 Punkte)_\n",
    "### A2.1: _(1 Punkt)_\n",
    "Generiert je zwei Beispiele für performative und konstantive Äußerungen. Die Äußerungen dürfen nicht in den Vorlesungsfolien aufgeführt sein. Offensichtliche Variationen, einer ansonsten gleichen Äußerung, werden ebenfalls nicht akzeptiert."
   ]
  },
  {
   "attachments": {},
   "cell_type": "markdown",
   "metadata": {},
   "source": [
    "#### Antwort:\n",
    "    Performative Äußerung:\n",
    "    1. Ich liebe mein Bodypillow und erkläre es hiermit zu meinen Begleiter!\n",
    "    2. Ich breche mein Studium hiermit ab!\n",
    "\n",
    "    Konstantive Äüßerung: \n",
    "    1. \"Two plus Two is Four Minus One that is Three\"\n",
    "    2. Die Sonne ist ein Stern"
   ]
  },
  {
   "attachments": {},
   "cell_type": "markdown",
   "metadata": {},
   "source": [
    "### A2.2: _(1 Punkt)_\n",
    "Definiert den Unterschied zwischen konstantiver und perfomativer Äußerung und geht dabei auf eure Beispiele aus (a) ein. Erklärt warum der Satz “I declare this world to be mine!” als performativer Satz ungültig ist."
   ]
  },
  {
   "attachments": {},
   "cell_type": "markdown",
   "metadata": {},
   "source": [
    "#### Antwort:\n",
    "    Bei einer performativen Äußerung wird etwas getan oder anders gesagt es wird ein Akt ausgeführt. Im ersten Beispiel wird die liebe eines Bodypillows ausgesprochen und ihn als Begleiter erklärt und im zweiten wird das studium abgebrochen weil das Neuronale Netze Modul zu schwer war. Beide Äußerungen sind dabei weder falsch oder wahr. Es sind Äußerungen die selbst eine Handlung vollziehen.\n",
    "\n",
    "    Bei einer konstantiven Äußerung handelt es sich um eine Aussage die der Fall ist. Dabei kann diese Aussage entweder falsch oder wahr sein. Im ersten Beispiel wird die Aussage getroffen, dass 2 + 2 = 4 - 1 = 3. Diese Aussage kann offensichtlich als wahr gekenntzeichnet werden, da dies ein Fakt ist. Das selbe gilt mit der zweiten Äußerung. Es ist von allen Menschen und von der Wissenschaft anerkannt, dass die Sonne ein Stern ist, wodurch dies eine konstantive Äußerung ist. \n",
    "\n",
    "    \"I declare this world to be mine\" ist ein misslungener performativer Satz, da die Handlung unmöglich ausführbar ist. Das kann er einfach so nur als Akt ausführen. Dafür müsste er einen dritten Weltkrieg erfolgreich gewinnen und hoffen, dass die Atomwaffen die Welt nicht unbewohnbr machen."
   ]
  },
  {
   "attachments": {},
   "cell_type": "markdown",
   "metadata": {},
   "source": [
    "### A2.3: _(2 Punkte)_\n",
    "Erklärt anhand des Satzes “I state that the earth is flat.” warum die Definitionen von konstantiv und perfomativ offensichtlich auch unzureichend sind."
   ]
  },
  {
   "attachments": {},
   "cell_type": "markdown",
   "metadata": {},
   "source": [
    "#### Antwort:\n",
    "    Die Definitionen von konstantiv und performativ sind unzureichend, da Sprache in manchen Fällen einfach zu komplex und vielschichtig/bedeutend ist.\n",
    "    In dem Beispiel \"I state that the earth is flat\" wird im Fall einer konstantiven Äußerung gesagt, dass das was ausgesagt wird der Fall ist. In diesem Beispiel ist es leider wissenschaftlich hinterlegt das die Erde keine Scheibe. Dies macht die Aussage nicht konstantiv. Wenn wir die performative Sicht betrachten könnte man annehmen das die Person die Erde als flach \"stated\" und somit wird zwar Akt performed, da er die Erde als flach erklärt aber dieser Akt ist nicht ausführbar/richtig. Man sieht gut an diesem Beispiel, dass zwischen konstantive und performative Äußerung nicht immer unterschieden werden kann und beide in manchen Fällen nicht zurtreffen was die Definitionen als unzureichend macht."
   ]
  },
  {
   "attachments": {},
   "cell_type": "markdown",
   "metadata": {},
   "source": [
    "### A2.4: _(6 Punkte)_\n",
    "Erklärt Austins Komponenten einer Äußerung (lokutionärer/illokutionärer/perlokutionärer Akt). Benuzt die Selbstvorstellung („Hi, mein Name ist X“ – setzt für X euren Namen ein) als Beispiel um die Erläuterungen der Komponenten, und gegebenenfalls Unterkomponenten, zu verdeutlichen. Geht dabei auch auf den Begriff „propositionaler Inhalt“ ein."
   ]
  },
  {
   "attachments": {},
   "cell_type": "markdown",
   "metadata": {},
   "source": [
    "#### Antwort:\n",
    "    Satz S1: Hi, mein Name ist Noah.\n",
    "\n",
    "    <illokutionärer Akt> Beim illokutionären Akt geht es darum, durch etwas zu sagen etwas zu tun. \n",
    "    Hier in S1 könnte der illokutionäre Akt darin bestehen, dass der Sprecher sich vorstellen möchte, dies ist eine Handlung.\n",
    "    Noah stellt sich vor.\n",
    "\n",
    "    <lokutionärer Akt> Beim lokutionären Akt geht es darum, etwas zu sagen. Dies kann noch weiter unterteilt werden in \n",
    "    den phonetischen, phaktischen und rhetorischen Akt. In S1 könnte es sein:\n",
    "    phonetisch: Sprecher produziert Laute S1\n",
    "    phaktisch: Sprecher produziert die Worte: Hi, mein, Name, ist und Noah\n",
    "    retisch: Sprecher produziert S1 mit einem Sinn.\n",
    "\n",
    "    <perlokutionärer Akt> Beim perlokutionären Akt geht es darum, durch das Gesagte, andere dazu zu bringen, etwas zu tun. In S1 könnte dies sein, \n",
    "    dass der Sprecher durch seine Vorstellung die Anderen dazu auffordert, sich ebenso vorzustellen.\n",
    "    Dadurch, dass Noah sich vorstellt, bittet er Hörer1 dazu, sich auch vorzustellen.\n",
    "\n",
    "\n",
    "    propositionaler Inhalt:\n",
    "    Der propositionale Inhalt bezieht sich auf die Bedeutung des Satzes im Bezug auf die Aussage, den er vermitteln möchte.\n",
    "    Eine Proposition kann wahr oder falsch sein. Es ist der Kerngedanke der Information, die ein Sprecher mit einer Aussage vermitteln möchte.\n",
    "    Der propositionale Inhalt von S1 ist somit, dass der Name des Sprechers Noah ist. Dies kann dabei wahr oder falsch sein.\n",
    "    \n",
    "     "
   ]
  },
  {
   "attachments": {},
   "cell_type": "markdown",
   "metadata": {},
   "source": [
    "## Aufgabe 3: _(7 Punkte)_\n",
    "Gegeben sei der folgende Dialog zwischen dem Agenten (B)illie und einer (U)serin\n",
    "\n",
    "    B: Hallo!\n",
    "    U: Hi!\n",
    "    B: Was kann ich für dich tun?\n",
    "    U: Ich möchte einen Termin eintragen!\n",
    "    B: Mhm ... Ich verstehe!\n",
    "    B: Diese oder nächste Woche?\n",
    "    U: Weder noch! Der Termin ist in vier Wochen\n",
    "    U: …am 20. um genau zu sein.\n",
    "    B: Am 20. also ... hab ich das richtig verstanden?\n",
    "    U: Ja genau! Am Donnerstag um 10 Uhr.\n",
    "    U: Der Betreff ist „Meeting mit Klaus, Vorbereitung Projekttagung!“\n",
    "    B: Okay!\n",
    "    B: Donnerstag 10 Uhr „Meeting mit Klaus, Projekttagung.“\n",
    "    B: Ist das richtig?\n",
    "    U: Yupp!\n",
    "    B: Kann ich sonst noch was tun?\n",
    "    U: Nein! Nicht nötig! Danke dir!\n",
    "    B: Okay! Kein Problem!\n",
    "    B: Ich werde dich daran erinnern!\n",
    "    B: Man sieht sich!\n",
    "    U: Bis später!\n",
    "\n",
    "### A3.1: _(2 Punkte)_\n",
    "Definiert den Unterschied zwischen _Sprechakt_ und _Dialogakt_, indem ihr beide Begriffe jeweils kurz charakterisiert."
   ]
  },
  {
   "attachments": {},
   "cell_type": "markdown",
   "metadata": {},
   "source": [
    "#### Antwort:\n",
    "    Sprechakt: Nützlich, um pragmatische Kraft von Äußerungen zu chrakterisieren. Dabei sind die Regeln eines Sprachaktes entweder regulativ (können im Imperativen paraphrasiert werden) oder konstitutiv (def. erzeugen neue Verhaltensformen).\n",
    "    Leicht gesagt könnte man sagen, dass sich ein Sprechakt eine sprachliche Handlung, die eine bestimmte Funktion/Bedeutung hat bezieht und es geht um die Art und Weise wie eine Äußerung einen Zweck erfüllt.\n",
    "\n",
    "    Dialogakt: Der Dialogakt erweitert den Sprachakt um die Modellierung von konversationalen Funktionen von Äußerungen und um andere Aktionen als nur die Sprache wie z.B. die Gestik oder der Blick einer Person. Dabei hat es außerdem die Charakteristik, dass es multifunktional und multidimensional ist und eine interen Struktur besitzt. Kurzgesagt bezieht sich der Dialogakt auf die Rolle der Äußerung innerhalb eines Gesprächs und die Interaktion zwischen den Sprechern. \n"
   ]
  },
  {
   "attachments": {},
   "cell_type": "markdown",
   "metadata": {},
   "source": [
    "### A3.2: _(5 Punkte)_\n",
    "Annotiert die Sätze im Dialog mit passenden Sprechakttypen gemäß Searle. Fügt dazu hinter jedem identifizierten Sprechakt den entsprechenden Typ in eckigen Klammern ein. (`[...]`)"
   ]
  },
  {
   "attachments": {},
   "cell_type": "markdown",
   "metadata": {},
   "source": [
    "#### Antwort:\n",
    "    B: Hallo!                                                                   [Expressives]\n",
    "    U: Hi!                                                                      [Expressives]\n",
    "    B: Was kann ich für dich tun                                                [Directives]\n",
    "    U: Ich möchte einen Termin eintragen!                                       [Directives]\n",
    "    B: Mhm ... Ich verstehe!                                                    [Expressives]\n",
    "    B: Diese oder nächste Woche?                                                [Directives]\n",
    "    U: Weder noch! Der Termin ist in vier Wochen                                [Representatives]\n",
    "    U: …am 20. um genau zu sein.                                                [Representatives]\n",
    "    B: Am 20. also ... hab ich das richtig verstanden?                          [Directives]\n",
    "    U: Ja genau! Am Donnerstag um 10 Uhr.                                       [Representatives]\n",
    "    U: Der Betreff ist „Meeting mit Klaus, Vorbereitung Projekttagung!“         [Representatives]\n",
    "    B: Okay!                                                                    [Expressives]   \n",
    "    B: Donnerstag 10 Uhr „Meeting mit Klaus, Projekttagung.“                    [Representatives]\n",
    "    B: Ist das richtig?                                                         [Directives]\n",
    "    U: Yupp!                                                                    [Expressives]\n",
    "    B: Kann ich sonst noch was tun?                                             [Directives]\n",
    "    U: Nein! Nicht nötig! Danke dir!                                            [Expressives]\n",
    "    B: Okay! Kein Problem!                                                      [Expressives]\n",
    "    B: Ich werde dich daran erinnern!                                           [Commissives]\n",
    "    B: Man sieht sich!                                                          [Declarations]\n",
    "    U: Bis später!                                                              [Expressives]"
   ]
  }
 ],
 "metadata": {
  "kernelspec": {
   "display_name": "Python 3 (ipykernel)",
   "language": "python",
   "name": "python3"
  },
  "language_info": {
   "codemirror_mode": {
    "name": "ipython",
    "version": 3
   },
   "file_extension": ".py",
   "mimetype": "text/x-python",
   "name": "python",
   "nbconvert_exporter": "python",
   "pygments_lexer": "ipython3",
   "version": "3.8.0"
  }
 },
 "nbformat": 4,
 "nbformat_minor": 1
}
